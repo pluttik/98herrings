{
 "cells": [
  {
   "cell_type": "markdown",
   "metadata": {},
   "source": [
    "Find haplotypes and frequencies for herrings from the Baltic Sea.<br>\n",
    "Data from: Teacher et al. 2012<br>\n",
    "98 herrings, 16S 'long' fragment, 217 bp"
   ]
  },
  {
   "cell_type": "code",
   "execution_count": 1,
   "metadata": {},
   "outputs": [],
   "source": [
    "def next_haplo_name(hh):\n",
    "    if hh < 10:\n",
    "        name = 'H0' + str(hh)\n",
    "    else: name = 'H' + str(hh)\n",
    "    return name"
   ]
  },
  {
   "cell_type": "code",
   "execution_count": 3,
   "metadata": {},
   "outputs": [],
   "source": [
    "fname = 'data/Herring_mitochondria_16S.fasta'\n",
    "handle = open(fname)\n",
    "haplos = {} #haplos have names A, B, C etc. as keys and sequence as value\n",
    "haplo_names = [] #list of haplotype names e.g. H01\n",
    "#sample_names = [] #list of sample names e.g. DH"
   ]
  },
  {
   "cell_type": "code",
   "execution_count": 4,
   "metadata": {},
   "outputs": [],
   "source": [
    "#fill the fasta outfile with haplotypes\n",
    "#and fill the list haplo_names\n",
    "out1 = open('results/Herring_mitochondria_16S_haplos.fas','w')\n",
    "h = 1 #number for the first haplotype\n",
    "while True:\n",
    "    line1 = handle.readline() #the name, e.g. gb|KC193680.1\n",
    "    if not line1: break\n",
    "    #line1 = line1.strip('\\n')\n",
    "    #sample = line1[1:3]\n",
    "    #if sample not in sample_names: #check if sample seen before, if not, add it\n",
    "    #    sample_names.append(sample)\n",
    "    line2 = handle.readline() #the DNA sequence\n",
    "    line2 = line2.upper()#make all uppercase\n",
    "    if line2 not in haplos.values(): #fill the haplos dictionary\n",
    "        haplo_name = next_haplo_name(h)\n",
    "        haplo_names.append(haplo_name)\n",
    "        h += 1\n",
    "        haplos[haplo_name] = line2\n",
    "        line_h = '>' + haplo_name +'\\n' + line2\n",
    "        out1.write(line_h)\n",
    "handle.close()\n",
    "out1.close()"
   ]
  },
  {
   "cell_type": "code",
   "execution_count": 5,
   "metadata": {},
   "outputs": [],
   "source": [
    "#fill the first csv outfile with the individuals' haplotypes\n",
    "#will use infile fname = 'data/Herring_mitochondria_16S.aln' for this\n",
    "out2 = open('results/sequence_data_ind_haplos_Herring_mitochondria_16S_haplos.csv','w')\n",
    "handle = open(fname)\n",
    "while True:\n",
    "    line1 = handle.readline() #the name, e.g. gb|KC193680.1\n",
    "    if not line1: break\n",
    "    line1 = line1.strip('\\n')\n",
    "    line2 = handle.readline() #the DNA sequence\n",
    "    for k,v in haplos.items(): #look for the haplotype code\n",
    "        if v == line2:\n",
    "            line1 = line1.strip('>').split('-')\n",
    "            line1 = ','.join(line1)\n",
    "            line_i = line1 +','+ k + '\\n'\n",
    "            out2.write(line_i)\n",
    "handle.close()\n",
    "out2.close()"
   ]
  },
  {
   "cell_type": "code",
   "execution_count": 6,
   "metadata": {},
   "outputs": [
    {
     "name": "stdout",
     "output_type": "stream",
     "text": [
      "haplotype  frequency\n",
      "H01\n",
      "53\n",
      "H02\n",
      "7\n",
      "H03\n",
      "1\n",
      "H04\n",
      "5\n",
      "H05\n",
      "1\n",
      "H06\n",
      "1\n",
      "H07\n",
      "5\n",
      "H08\n",
      "7\n",
      "H09\n",
      "3\n",
      "H10\n",
      "8\n",
      "H11\n",
      "1\n",
      "H12\n",
      "1\n",
      "H13\n",
      "1\n",
      "H14\n",
      "1\n",
      "H15\n",
      "2\n",
      "H16\n",
      "1\n",
      "total sample_size 98\n"
     ]
    }
   ],
   "source": [
    "#fill csv file (out3) with frequencies\n",
    "#will use list haplo_names for this\n",
    "#will also use infile fname = 'results/sequence_data_ind_haplos_Herring_mitochondria_16S_haplos.csv' for this\n",
    "handle2 = open('results/sequence_data_ind_haplos_Herring_mitochondria_16S_haplos.csv')\n",
    "out3 = open('results/sequence_data_freqs_Herring_mitochondria_16S_haplos.csv','w')\n",
    "\n",
    "freq_table = []\n",
    "for a in range(len(haplo_names)):\n",
    "    freq_table.append(0) #list for frequency data\n",
    "#fill the first row of csv file out3 with the haplotype names\n",
    "line = ''\n",
    "for haplo_name in haplo_names:\n",
    "    line = line + haplo_name + ','\n",
    "line = line + '\\n'\n",
    "out3.write(line)\n",
    "\n",
    "#fill the freq_table list\n",
    "while True:\n",
    "    line1 = handle2.readline()\n",
    "    if not line1: break\n",
    "    line1 = line1.strip('\\n')\n",
    "    ind_haplo = line1[-3:]\n",
    "    ind_haplo_index = haplo_names.index(ind_haplo)\n",
    "    freq_table[ind_haplo_index] += 1\n",
    "\n",
    "sample_size = sum(freq_table)\n",
    "print('haplotype ','frequency')\n",
    "for j in range(len(haplo_names)):\n",
    "    print(haplo_names[j])\n",
    "    print(freq_table[j])\n",
    "print('total sample_size',sample_size)\n",
    "\n",
    "line_i = ''\n",
    "for i in range(len(haplo_names)):\n",
    "    line_i = line_i + str(freq_table[i]) +','\n",
    "line_i = line_i + '\\n'\n",
    "out3.write(line_i)\n",
    "\n",
    "handle2.close()\n",
    "out3.close()"
   ]
  },
  {
   "cell_type": "code",
   "execution_count": null,
   "metadata": {},
   "outputs": [],
   "source": []
  }
 ],
 "metadata": {
  "kernelspec": {
   "display_name": "Python 3",
   "language": "python",
   "name": "python3"
  },
  "language_info": {
   "codemirror_mode": {
    "name": "ipython",
    "version": 3
   },
   "file_extension": ".py",
   "mimetype": "text/x-python",
   "name": "python",
   "nbconvert_exporter": "python",
   "pygments_lexer": "ipython3",
   "version": "3.6.1"
  }
 },
 "nbformat": 4,
 "nbformat_minor": 2
}
